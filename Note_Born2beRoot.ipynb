{
  "nbformat": 4,
  "nbformat_minor": 0,
  "metadata": {
    "colab": {
      "provenance": [],
      "authorship_tag": "ABX9TyOhxL1+petJ41D0UFFGO3nX",
      "include_colab_link": true
    },
    "kernelspec": {
      "name": "python3",
      "display_name": "Python 3"
    },
    "language_info": {
      "name": "python"
    }
  },
  "cells": [
    {
      "cell_type": "markdown",
      "metadata": {
        "id": "view-in-github",
        "colab_type": "text"
      },
      "source": [
        "<a href=\"https://colab.research.google.com/github/ISDouglas/Ecole42_Cursus/blob/main/Note_Born2beRoot.ipynb\" target=\"_parent\"><img src=\"https://colab.research.google.com/assets/colab-badge.svg\" alt=\"Open In Colab\"/></a>"
      ]
    },
    {
      "cell_type": "markdown",
      "source": [
        "# Add port 4242\n",
        "\n",
        "Install OpenSSH:\n"
      ],
      "metadata": {
        "id": "J_eaqyb-B5Cl"
      }
    },
    {
      "cell_type": "code",
      "source": [
        "\n",
        "$ sudo apt install openssh-server"
      ],
      "metadata": {
        "id": "SHmbaAZ-B-hF"
      },
      "execution_count": null,
      "outputs": []
    },
    {
      "cell_type": "markdown",
      "source": [
        "Check SSH status:\n"
      ],
      "metadata": {
        "id": "COEYoWcKCJSW"
      }
    },
    {
      "cell_type": "code",
      "source": [
        "$ sudo systemctl status ssh"
      ],
      "metadata": {
        "id": "MIFirG2cEWJV"
      },
      "execution_count": null,
      "outputs": []
    },
    {
      "cell_type": "markdown",
      "source": [
        "Change SSH listening port to 4242:"
      ],
      "metadata": {
        "id": "PJd1_AmNEVEU"
      }
    },
    {
      "cell_type": "code",
      "source": [
        "$ sudo nano /etc/ssh/sshd_config"
      ],
      "metadata": {
        "id": "xokPdyOfEU5t"
      },
      "execution_count": null,
      "outputs": []
    },
    {
      "cell_type": "markdown",
      "source": [
        "change line\n"
      ],
      "metadata": {
        "id": "jmtzhSprEUtT"
      }
    },
    {
      "cell_type": "code",
      "source": [
        "#Port 22"
      ],
      "metadata": {
        "id": "wF1RcA__EUiu"
      },
      "execution_count": null,
      "outputs": []
    },
    {
      "cell_type": "markdown",
      "source": [
        "into"
      ],
      "metadata": {
        "id": "sO3XkJSzEUb0"
      }
    },
    {
      "cell_type": "code",
      "source": [
        "Port 4242"
      ],
      "metadata": {
        "id": "ZjUu7_ahEUEe"
      },
      "execution_count": null,
      "outputs": []
    },
    {
      "cell_type": "markdown",
      "source": [],
      "metadata": {
        "id": "dFeDJ_o1IJKL"
      }
    }
  ]
}