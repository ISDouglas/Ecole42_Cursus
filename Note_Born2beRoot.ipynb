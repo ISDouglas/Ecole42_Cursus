{
  "nbformat": 4,
  "nbformat_minor": 0,
  "metadata": {
    "colab": {
      "provenance": [],
      "authorship_tag": "ABX9TyMK2zitq5Gqpb2NHIINd0mb",
      "include_colab_link": true
    },
    "kernelspec": {
      "name": "python3",
      "display_name": "Python 3"
    },
    "language_info": {
      "name": "python"
    }
  },
  "cells": [
    {
      "cell_type": "markdown",
      "metadata": {
        "id": "view-in-github",
        "colab_type": "text"
      },
      "source": [
        "<a href=\"https://colab.research.google.com/github/ISDouglas/Ecole42_Cursus/blob/main/Note_Born2beRoot.ipynb\" target=\"_parent\"><img src=\"https://colab.research.google.com/assets/colab-badge.svg\" alt=\"Open In Colab\"/></a>"
      ]
    },
    {
      "cell_type": "markdown",
      "source": [
        "# Add port 4242\n",
        "\n",
        "Install OpenSSH:\n"
      ],
      "metadata": {
        "id": "J_eaqyb-B5Cl"
      }
    },
    {
      "cell_type": "code",
      "source": [
        "$ sudo apt update\n",
        "$ sudo apt upgrade\n",
        "$ sudo apt install openssh-server\n"
      ],
      "metadata": {
        "id": "SHmbaAZ-B-hF"
      },
      "execution_count": null,
      "outputs": []
    },
    {
      "cell_type": "markdown",
      "source": [],
      "metadata": {
        "id": "COEYoWcKCJSW"
      }
    }
  ]
}